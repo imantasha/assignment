{
  "nbformat": 4,
  "nbformat_minor": 0,
  "metadata": {
    "colab": {
      "name": "assignment",
      "provenance": []
    },
    "kernelspec": {
      "name": "python3",
      "display_name": "Python 3"
    },
    "language_info": {
      "name": "python"
    }
  },
  "cells": [
    {
      "cell_type": "code",
      "metadata": {
        "colab": {
          "base_uri": "https://localhost:8080/"
        },
        "id": "vaLzjJHGd-KE",
        "outputId": "9f4f464a-c478-475f-9b17-84702b48aded"
      },
      "source": [
        "#1\n",
        "x=\"5\"\n",
        "y=5\n",
        "x==y"
      ],
      "execution_count": null,
      "outputs": [
        {
          "output_type": "execute_result",
          "data": {
            "text/plain": [
              "False"
            ]
          },
          "metadata": {
            "tags": []
          },
          "execution_count": 1
        }
      ]
    },
    {
      "cell_type": "code",
      "metadata": {
        "colab": {
          "base_uri": "https://localhost:8080/",
          "height": 210
        },
        "id": "otvYr1iueA5k",
        "outputId": "5eba2f0d-06ff-4202-979b-3f03572a66e8"
      },
      "source": [
        "#20\n",
        "f = open('data/testouput.txt')\n",
        "f.write(\"Hello world!\")\n",
        "f.close()      "
      ],
      "execution_count": null,
      "outputs": [
        {
          "output_type": "error",
          "ename": "FileNotFoundError",
          "evalue": "ignored",
          "traceback": [
            "\u001b[0;31m---------------------------------------------------------------------------\u001b[0m",
            "\u001b[0;31mFileNotFoundError\u001b[0m                         Traceback (most recent call last)",
            "\u001b[0;32m<ipython-input-2-6aa4fef35e91>\u001b[0m in \u001b[0;36m<module>\u001b[0;34m()\u001b[0m\n\u001b[0;32m----> 1\u001b[0;31m \u001b[0mf\u001b[0m \u001b[0;34m=\u001b[0m \u001b[0mopen\u001b[0m\u001b[0;34m(\u001b[0m\u001b[0;34m'data/testouput.txt'\u001b[0m\u001b[0;34m)\u001b[0m\u001b[0;34m\u001b[0m\u001b[0;34m\u001b[0m\u001b[0m\n\u001b[0m\u001b[1;32m      2\u001b[0m \u001b[0mf\u001b[0m\u001b[0;34m.\u001b[0m\u001b[0mwrite\u001b[0m\u001b[0;34m(\u001b[0m\u001b[0;34m\"Hello world!\"\u001b[0m\u001b[0;34m)\u001b[0m\u001b[0;34m\u001b[0m\u001b[0;34m\u001b[0m\u001b[0m\n\u001b[1;32m      3\u001b[0m \u001b[0mf\u001b[0m\u001b[0;34m.\u001b[0m\u001b[0mclose\u001b[0m\u001b[0;34m(\u001b[0m\u001b[0;34m)\u001b[0m\u001b[0;34m\u001b[0m\u001b[0;34m\u001b[0m\u001b[0m\n",
            "\u001b[0;31mFileNotFoundError\u001b[0m: [Errno 2] No such file or directory: 'data/testouput.txt'"
          ]
        }
      ]
    },
    {
      "cell_type": "code",
      "metadata": {
        "colab": {
          "base_uri": "https://localhost:8080/",
          "height": 247
        },
        "id": "dXmjdfqGeIX7",
        "outputId": "5b046b2f-1525-47ed-e3f9-ccb4a3550a0e"
      },
      "source": [
        "#19\n",
        "f= open('data/austen-emma-excerpt.txt')\n",
        "text = f.read()\n",
        "f.close                             \n",
        "print(text)"
      ],
      "execution_count": null,
      "outputs": [
        {
          "output_type": "error",
          "ename": "FileNotFoundError",
          "evalue": "ignored",
          "traceback": [
            "\u001b[0;31m---------------------------------------------------------------------------\u001b[0m",
            "\u001b[0;31mFileNotFoundError\u001b[0m                         Traceback (most recent call last)",
            "\u001b[0;32m<ipython-input-22-eb27bcb4f755>\u001b[0m in \u001b[0;36m<module>\u001b[0;34m()\u001b[0m\n\u001b[1;32m      1\u001b[0m \u001b[0;31m#18\u001b[0m\u001b[0;34m\u001b[0m\u001b[0;34m\u001b[0m\u001b[0;34m\u001b[0m\u001b[0m\n\u001b[0;32m----> 2\u001b[0;31m \u001b[0mf\u001b[0m\u001b[0;34m=\u001b[0m \u001b[0mopen\u001b[0m\u001b[0;34m(\u001b[0m\u001b[0;34m'data/austen-emma-excerpt.txt'\u001b[0m\u001b[0;34m)\u001b[0m\u001b[0;34m\u001b[0m\u001b[0;34m\u001b[0m\u001b[0m\n\u001b[0m\u001b[1;32m      3\u001b[0m \u001b[0mtext\u001b[0m \u001b[0;34m=\u001b[0m \u001b[0mf\u001b[0m\u001b[0;34m.\u001b[0m\u001b[0mread\u001b[0m\u001b[0;34m(\u001b[0m\u001b[0;34m)\u001b[0m\u001b[0;34m\u001b[0m\u001b[0;34m\u001b[0m\u001b[0m\n\u001b[1;32m      4\u001b[0m \u001b[0mf\u001b[0m\u001b[0;34m.\u001b[0m\u001b[0mclose\u001b[0m\u001b[0;34m\u001b[0m\u001b[0;34m\u001b[0m\u001b[0m\n\u001b[1;32m      5\u001b[0m \u001b[0mprint\u001b[0m\u001b[0;34m(\u001b[0m\u001b[0mtext\u001b[0m\u001b[0;34m)\u001b[0m\u001b[0;34m\u001b[0m\u001b[0;34m\u001b[0m\u001b[0m\n",
            "\u001b[0;31mFileNotFoundError\u001b[0m: [Errno 2] No such file or directory: 'data/austen-emma-excerpt.txt'"
          ]
        }
      ]
    },
    {
      "cell_type": "code",
      "metadata": {
        "colab": {
          "base_uri": "https://localhost:8080/"
        },
        "id": "CSHdJY3teLlk",
        "outputId": "e3a8a4a9-4f57-407c-feef-a32ada430e49"
      },
      "source": [
        "#2\n",
        "fruits = ['banana','apple','pear']\n",
        "if fruits:\n",
        "    print(f\"We have {len(fruits)} fruits\")"
      ],
      "execution_count": null,
      "outputs": [
        {
          "output_type": "stream",
          "text": [
            "We have 3 fruits\n"
          ],
          "name": "stdout"
        }
      ]
    },
    {
      "cell_type": "code",
      "metadata": {
        "colab": {
          "base_uri": "https://localhost:8080/"
        },
        "id": "cp6-89QCeO56",
        "outputId": "23d9f224-d606-4fa6-e03a-feffb9b73fcd"
      },
      "source": [
        "#4\n",
        "quotestring=\"A computer would deserve to be called intelligent if it could deceive a human into believing that it was human\"\n",
        "quotelist = quotestring.split(' ')\n",
        "print(quotelist)"
      ],
      "execution_count": null,
      "outputs": [
        {
          "output_type": "stream",
          "text": [
            "['A', 'computer', 'would', 'deserve', 'to', 'be', 'called', 'intelligent', 'if', 'it', 'could', 'deceive', 'a', 'human', 'into', 'believing', 'that', 'it', 'was', 'human']\n"
          ],
          "name": "stdout"
        }
      ]
    },
    {
      "cell_type": "code",
      "metadata": {
        "colab": {
          "base_uri": "https://localhost:8080/"
        },
        "id": "Is9U7hzMeSDE",
        "outputId": "53c1bf0d-04a6-40d2-be4d-7e6c26c461d7"
      },
      "source": [
        "#5\n",
        "numberoftwoletterwords = 0\n",
        "for word in quotelist:\n",
        "    if len(word) == 2:\n",
        "        numberoftwoletterwords += 1\n",
        "print(numberoftwoletterwords == 5) # This will be True if you've done it right"
      ],
      "execution_count": null,
      "outputs": [
        {
          "output_type": "stream",
          "text": [
            "True\n"
          ],
          "name": "stdout"
        }
      ]
    },
    {
      "cell_type": "code",
      "metadata": {
        "colab": {
          "base_uri": "https://localhost:8080/"
        },
        "id": "P1GruD9seVn7",
        "outputId": "fedf77a6-70e3-444d-cd75-81801118e9a1"
      },
      "source": [
        "#6\n",
        "fruitlist = ['banana', 'pear', 'apple']\n",
        "delimiter = \",\"\n",
        "fruitstring = delimiter.join(fruitlist)\n",
        "print(fruitstring)"
      ],
      "execution_count": null,
      "outputs": [
        {
          "output_type": "stream",
          "text": [
            "banana,pear,apple\n"
          ],
          "name": "stdout"
        }
      ]
    },
    {
      "cell_type": "code",
      "metadata": {
        "colab": {
          "base_uri": "https://localhost:8080/"
        },
        "id": "qNcIb6CZeZtU",
        "outputId": "fb8b7c8b-e0c7-422c-b7dc-215c839ec24d"
      },
      "source": [
        "#7\n",
        "text = \"We spend our time searching for security and hate it when we get it\"\n",
        "found = text.find('security')\n",
        "\n",
        "if found == -1:\n",
        "  print(\"No security found! :(\")\n",
        "else:\n",
        "  print(\"Security found at position \" + str(found))\n"
      ],
      "execution_count": null,
      "outputs": [
        {
          "output_type": "stream",
          "text": [
            "Security found at position 32\n"
          ],
          "name": "stdout"
        }
      ]
    },
    {
      "cell_type": "code",
      "metadata": {
        "colab": {
          "base_uri": "https://localhost:8080/"
        },
        "id": "yDwKTEl6edVq",
        "outputId": "43132090-e34d-473b-80f0-29d586f28c5c"
      },
      "source": [
        "#8\n",
        "text = \"You can not compare apples and pears\"\n",
        "text = text.replace(\"pears\", \"apples\")\n",
        "text = text.replace(\"not\", \"\")\n",
        "print(text)"
      ],
      "execution_count": null,
      "outputs": [
        {
          "output_type": "stream",
          "text": [
            "You can  compare apples and apples\n"
          ],
          "name": "stdout"
        }
      ]
    },
    {
      "cell_type": "code",
      "metadata": {
        "colab": {
          "base_uri": "https://localhost:8080/"
        },
        "id": "9g00tpzOeiJ6",
        "outputId": "9c10b731-3b2b-4e58-95f0-21092e2d9e48"
      },
      "source": [
        "#9\n",
        "text = \"Research has shown that it is often still possible to understand text even if all vowels are removed\"\n",
        "for vowel in (\"a\",\"i\",\"e\",\"o\",\"u\"):\n",
        "    text = text.replace(vowel,\"\")\n",
        "print(text)"
      ],
      "execution_count": null,
      "outputs": [
        {
          "output_type": "stream",
          "text": [
            "Rsrch hs shwn tht t s ftn stll pssbl t ndrstnd txt vn f ll vwls r rmvd\n"
          ],
          "name": "stdout"
        }
      ]
    },
    {
      "cell_type": "code",
      "metadata": {
        "colab": {
          "base_uri": "https://localhost:8080/"
        },
        "id": "ejaXPZviekkb",
        "outputId": "4a7a67c4-28c3-44c1-87ae-9a13a2a4d1de"
      },
      "source": [
        "#10\n",
        "s = \"   strip me!    \"\n",
        "print(s.strip())"
      ],
      "execution_count": null,
      "outputs": [
        {
          "output_type": "stream",
          "text": [
            "strip me!\n"
          ],
          "name": "stdout"
        }
      ]
    },
    {
      "cell_type": "code",
      "metadata": {
        "colab": {
          "base_uri": "https://localhost:8080/"
        },
        "id": "ZVzH41MQenFT",
        "outputId": "a616fe53-7c68-42d7-eafb-b0ee2f6782f0"
      },
      "source": [
        "#11\n",
        "teachers = \"Folgert Karsdorp and Maarten van Gompel\"\n",
        "print(teachers.lower())\n",
        "print(teachers.upper())"
      ],
      "execution_count": null,
      "outputs": [
        {
          "output_type": "stream",
          "text": [
            "folgert karsdorp and maarten van gompel\n",
            "FOLGERT KARSDORP AND MAARTEN VAN GOMPEL\n"
          ],
          "name": "stdout"
        }
      ]
    },
    {
      "cell_type": "code",
      "metadata": {
        "colab": {
          "base_uri": "https://localhost:8080/"
        },
        "id": "rZRTZNQseqMa",
        "outputId": "52aba044-e448-48a6-a696-36aee76a6ee3"
      },
      "source": [
        "#12\n",
        "words = [\"BlA\", \"plop\", \"blA\", \"Bla\", \"PLoP\", \"bLa\", \"pLop\", \"BLA\"]\n",
        "count = 0\n",
        "for word in words:\n",
        "    if word.lower() == \"bla\":\n",
        "        count += 1\n",
        "print(count)"
      ],
      "execution_count": null,
      "outputs": [
        {
          "output_type": "stream",
          "text": [
            "5\n"
          ],
          "name": "stdout"
        }
      ]
    },
    {
      "cell_type": "code",
      "metadata": {
        "colab": {
          "base_uri": "https://localhost:8080/"
        },
        "id": "lWLjuIEGeusc",
        "outputId": "471106ef-c2a3-4c58-b250-e13fcfeed8b1"
      },
      "source": [
        "#13\n",
        "fruittuple = ('banana','apple','pear')\n",
        "print(fruittuple[0])"
      ],
      "execution_count": null,
      "outputs": [
        {
          "output_type": "stream",
          "text": [
            "banana\n"
          ],
          "name": "stdout"
        }
      ]
    },
    {
      "cell_type": "code",
      "metadata": {
        "colab": {
          "base_uri": "https://localhost:8080/"
        },
        "id": "86dkSutveyHD",
        "outputId": "6a5cc684-c8f3-4491-8832-41179665285f"
      },
      "source": [
        "#14\n",
        "fruitset = {'banana', 'apple', 'pear'}\n",
        "fruitset.add('banana') # will have no effect, banana already exists\n",
        "fruitset.add('orange')\n",
        "print(len(fruitset))"
      ],
      "execution_count": null,
      "outputs": [
        {
          "output_type": "stream",
          "text": [
            "4\n"
          ],
          "name": "stdout"
        }
      ]
    },
    {
      "cell_type": "code",
      "metadata": {
        "colab": {
          "base_uri": "https://localhost:8080/"
        },
        "id": "goUJJ4pHe0cq",
        "outputId": "c4dfaa87-2427-454c-eab0-41b034df0a23"
      },
      "source": [
        "#15\n",
        "numbers = [1, 2, 3, 4, 5]\n",
        "print(min(numbers))\n",
        "print(max(numbers))\n",
        "print(sum(numbers))"
      ],
      "execution_count": null,
      "outputs": [
        {
          "output_type": "stream",
          "text": [
            "1\n",
            "5\n",
            "15\n"
          ],
          "name": "stdout"
        }
      ]
    },
    {
      "cell_type": "code",
      "metadata": {
        "colab": {
          "base_uri": "https://localhost:8080/"
        },
        "id": "A3jZPO3se3ky",
        "outputId": "015f1ff0-dec4-4044-c1a5-064f151f4713"
      },
      "source": [
        "#16\n",
        "numbers = [1, 2, 3, 4, 5 ]\n",
        "doublenumbers = [number*2 for number in numbers]\n",
        "print(doublenumbers)"
      ],
      "execution_count": null,
      "outputs": [
        {
          "output_type": "stream",
          "text": [
            "[2, 4, 6, 8, 10]\n"
          ],
          "name": "stdout"
        }
      ]
    },
    {
      "cell_type": "code",
      "metadata": {
        "colab": {
          "base_uri": "https://localhost:8080/"
        },
        "id": "3yq8hPsle6iq",
        "outputId": "75f96bfc-b32d-48f1-aa58-14508ac25efb"
      },
      "source": [
        "#17\n",
        "numbers = [1, 2, 3, 4, 5]\n",
        "numbers = [ x + 2 for x in numbers]\n",
        "print(numbers)"
      ],
      "execution_count": null,
      "outputs": [
        {
          "output_type": "stream",
          "text": [
            "[3, 4, 5, 6, 7]\n"
          ],
          "name": "stdout"
        }
      ]
    },
    {
      "cell_type": "code",
      "metadata": {
        "colab": {
          "base_uri": "https://localhost:8080/"
        },
        "id": "-qYhO9x4e9ET",
        "outputId": "bd737300-2a1e-4293-f3db-9b3697caa9ec"
      },
      "source": [
        "#18\n",
        "import random\n",
        "\n",
        "number = 0\n",
        "while number != 42:\n",
        " number = random.randint(0, 100)\n",
        "print(number)\n"
      ],
      "execution_count": null,
      "outputs": [
        {
          "output_type": "stream",
          "text": [
            "42\n"
          ],
          "name": "stdout"
        }
      ]
    },
    {
      "cell_type": "code",
      "metadata": {
        "id": "SI3D7SjOidf6"
      },
      "source": [
        ""
      ],
      "execution_count": null,
      "outputs": []
    }
  ]
}